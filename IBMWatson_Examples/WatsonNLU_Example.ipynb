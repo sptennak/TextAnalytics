{
 "cells": [
  {
   "cell_type": "code",
   "execution_count": 52,
   "metadata": {},
   "outputs": [],
   "source": [
    "Response = {\n",
    "  \"usage\": {\n",
    "    \"text_units\": 1,\n",
    "    \"text_characters\": 2708,\n",
    "    \"features\": 1\n",
    "  },\n",
    "  \"retrieved_url\": \"http://www.cnn.com/\",\n",
    "  \"language\": \"en\",\n",
    "  \"entities\": [\n",
    "    {\n",
    "      \"type\": \"Company\",\n",
    "      \"text\": \"CNN\",\n",
    "      \"sentiment\": {\n",
    "        \"score\": 0.0,\n",
    "        \"label\": \"neutral\"\n",
    "      },\n",
    "      \"relevance\": 0.784947,\n",
    "      \"disambiguation\": {\n",
    "        \"subtype\": [\n",
    "          \"Broadcast\",\n",
    "          \"AwardWinner\",\n",
    "          \"RadioNetwork\",\n",
    "          \"TVNetwork\"\n",
    "        ],\n",
    "        \"name\": \"CNN\",\n",
    "        \"dbpedia_resource\": \"http://dbpedia.org/resource/CNN\"\n",
    "      },\n",
    "      \"count\": 9\n",
    "    },\n",
    "      {\n",
    "      \"type\": \"DFG\",\n",
    "      \"text\": \"s\",\n",
    "      \"sentiment\": {\n",
    "        \"score\": 1.0,\n",
    "        \"label\": \"positive\"\n",
    "      },\n",
    "      \"relevance\": 0.784947,\n",
    "      \"disambiguation\": {\n",
    "        \"subtype\": [\n",
    "          \"Broadcast\",\n",
    "          \"AwardWinner\",\n",
    "          \"RadioNetwork\",\n",
    "          \"TVNetwork\"\n",
    "        ],\n",
    "        \"name\": \"CNN\",\n",
    "        \"dbpedia_resource\": \"http://dbpedia.org/resource/CNN\"\n",
    "      },\n",
    "      \"count\": 9\n",
    "    }\n",
    "  ]\n",
    "}"
   ]
  },
  {
   "cell_type": "code",
   "execution_count": 59,
   "metadata": {},
   "outputs": [],
   "source": [
    "import pandas as pd\n",
    "TextID = '101'\n",
    "import sys"
   ]
  },
  {
   "cell_type": "code",
   "execution_count": 60,
   "metadata": {},
   "outputs": [],
   "source": [
    "if len(Response['entities']) != 0:\n",
    "    WatsonResponseDetail = pd.DataFrame(Response['entities'])\n",
    "    WatsonResponseDetail.insert(0, 'TextID', TextID)\n",
    "    if 'sentiment' in WatsonResponseDetail.columns:\n",
    "        Split= WatsonResponseDetail.sentiment.apply(pd.Series)\n",
    "        WatsonResponseDetail['sentiment_'+Split.columns]= Split\n",
    "        WatsonResponseDetail.drop('sentiment', axis=1, inplace=True)\n",
    "else:\n",
    "    raise Exception('NO ENTITIES FOUND')"
   ]
  },
  {
   "cell_type": "code",
   "execution_count": 82,
   "metadata": {},
   "outputs": [
    {
     "name": "stdout",
     "output_type": "stream",
     "text": [
      "(<class 'ZeroDivisionError'>, ZeroDivisionError('division by zero',), <traceback object at 0x000001C040FB46C8>)\n"
     ]
    }
   ],
   "source": [
    "try:\n",
    "    print(2/0)\n",
    "except ZeroDivisionError:\n",
    "    print(sys.exc_info())\n"
   ]
  },
  {
   "cell_type": "code",
   "execution_count": 41,
   "metadata": {},
   "outputs": [],
   "source": [
    "WatsonResponseDetail['sentiment_'+Split.columns]= WatsonResponseDetail.sentiment.apply(pd.Series)"
   ]
  },
  {
   "cell_type": "code",
   "execution_count": 42,
   "metadata": {},
   "outputs": [
    {
     "data": {
      "text/html": [
       "<div>\n",
       "<style scoped>\n",
       "    .dataframe tbody tr th:only-of-type {\n",
       "        vertical-align: middle;\n",
       "    }\n",
       "\n",
       "    .dataframe tbody tr th {\n",
       "        vertical-align: top;\n",
       "    }\n",
       "\n",
       "    .dataframe thead th {\n",
       "        text-align: right;\n",
       "    }\n",
       "</style>\n",
       "<table border=\"1\" class=\"dataframe\">\n",
       "  <thead>\n",
       "    <tr style=\"text-align: right;\">\n",
       "      <th></th>\n",
       "      <th>count</th>\n",
       "      <th>disambiguation</th>\n",
       "      <th>relevance</th>\n",
       "      <th>sentiment</th>\n",
       "      <th>text</th>\n",
       "      <th>type</th>\n",
       "      <th>sentiment_score</th>\n",
       "      <th>sentiment_label</th>\n",
       "    </tr>\n",
       "  </thead>\n",
       "  <tbody>\n",
       "    <tr>\n",
       "      <th>0</th>\n",
       "      <td>9</td>\n",
       "      <td>{'subtype': ['Broadcast', 'AwardWinner', 'Radi...</td>\n",
       "      <td>0.784947</td>\n",
       "      <td>{'score': 0.0, 'label': 'neutral'}</td>\n",
       "      <td>CNN</td>\n",
       "      <td>Company</td>\n",
       "      <td>0.0</td>\n",
       "      <td>neutral</td>\n",
       "    </tr>\n",
       "    <tr>\n",
       "      <th>1</th>\n",
       "      <td>9</td>\n",
       "      <td>{'subtype': ['Broadcast', 'AwardWinner', 'Radi...</td>\n",
       "      <td>0.784947</td>\n",
       "      <td>{'score': 1.0, 'label': 'positive'}</td>\n",
       "      <td>s</td>\n",
       "      <td>DFG</td>\n",
       "      <td>1.0</td>\n",
       "      <td>positive</td>\n",
       "    </tr>\n",
       "  </tbody>\n",
       "</table>\n",
       "</div>"
      ],
      "text/plain": [
       "   count                                     disambiguation  relevance  \\\n",
       "0      9  {'subtype': ['Broadcast', 'AwardWinner', 'Radi...   0.784947   \n",
       "1      9  {'subtype': ['Broadcast', 'AwardWinner', 'Radi...   0.784947   \n",
       "\n",
       "                             sentiment text     type  sentiment_score  \\\n",
       "0   {'score': 0.0, 'label': 'neutral'}  CNN  Company              0.0   \n",
       "1  {'score': 1.0, 'label': 'positive'}    s      DFG              1.0   \n",
       "\n",
       "  sentiment_label  \n",
       "0         neutral  \n",
       "1        positive  "
      ]
     },
     "execution_count": 42,
     "metadata": {},
     "output_type": "execute_result"
    }
   ],
   "source": [
    "WatsonResponseDetail"
   ]
  },
  {
   "cell_type": "code",
   "execution_count": 43,
   "metadata": {},
   "outputs": [],
   "source": [
    "jsonarray = json.dumps(Response[\"entities\"])"
   ]
  },
  {
   "cell_type": "code",
   "execution_count": 44,
   "metadata": {},
   "outputs": [
    {
     "data": {
      "text/plain": [
       "'[{\"type\": \"Company\", \"text\": \"CNN\", \"sentiment\": {\"score\": 0.0, \"label\": \"neutral\"}, \"relevance\": 0.784947, \"disambiguation\": {\"subtype\": [\"Broadcast\", \"AwardWinner\", \"RadioNetwork\", \"TVNetwork\"], \"name\": \"CNN\", \"dbpedia_resource\": \"http://dbpedia.org/resource/CNN\"}, \"count\": 9}, {\"type\": \"DFG\", \"text\": \"s\", \"sentiment\": {\"score\": 1.0, \"label\": \"positive\"}, \"relevance\": 0.784947, \"disambiguation\": {\"subtype\": [\"Broadcast\", \"AwardWinner\", \"RadioNetwork\", \"TVNetwork\"], \"name\": \"CNN\", \"dbpedia_resource\": \"http://dbpedia.org/resource/CNN\"}, \"count\": 9}]'"
      ]
     },
     "execution_count": 44,
     "metadata": {},
     "output_type": "execute_result"
    }
   ],
   "source": [
    "jsonarray\n"
   ]
  },
  {
   "cell_type": "code",
   "execution_count": 45,
   "metadata": {},
   "outputs": [
    {
     "data": {
      "text/html": [
       "<div>\n",
       "<style scoped>\n",
       "    .dataframe tbody tr th:only-of-type {\n",
       "        vertical-align: middle;\n",
       "    }\n",
       "\n",
       "    .dataframe tbody tr th {\n",
       "        vertical-align: top;\n",
       "    }\n",
       "\n",
       "    .dataframe thead th {\n",
       "        text-align: right;\n",
       "    }\n",
       "</style>\n",
       "<table border=\"1\" class=\"dataframe\">\n",
       "  <thead>\n",
       "    <tr style=\"text-align: right;\">\n",
       "      <th></th>\n",
       "      <th>count</th>\n",
       "      <th>disambiguation</th>\n",
       "      <th>relevance</th>\n",
       "      <th>sentiment</th>\n",
       "      <th>text</th>\n",
       "      <th>type</th>\n",
       "    </tr>\n",
       "  </thead>\n",
       "  <tbody>\n",
       "    <tr>\n",
       "      <th>0</th>\n",
       "      <td>9</td>\n",
       "      <td>{'subtype': ['Broadcast', 'AwardWinner', 'Radi...</td>\n",
       "      <td>0.784947</td>\n",
       "      <td>{'score': 0.0, 'label': 'neutral'}</td>\n",
       "      <td>CNN</td>\n",
       "      <td>Company</td>\n",
       "    </tr>\n",
       "    <tr>\n",
       "      <th>1</th>\n",
       "      <td>9</td>\n",
       "      <td>{'subtype': ['Broadcast', 'AwardWinner', 'Radi...</td>\n",
       "      <td>0.784947</td>\n",
       "      <td>{'score': 1.0, 'label': 'positive'}</td>\n",
       "      <td>s</td>\n",
       "      <td>DFG</td>\n",
       "    </tr>\n",
       "  </tbody>\n",
       "</table>\n",
       "</div>"
      ],
      "text/plain": [
       "   count                                     disambiguation  relevance  \\\n",
       "0      9  {'subtype': ['Broadcast', 'AwardWinner', 'Radi...   0.784947   \n",
       "1      9  {'subtype': ['Broadcast', 'AwardWinner', 'Radi...   0.784947   \n",
       "\n",
       "                             sentiment text     type  \n",
       "0   {'score': 0.0, 'label': 'neutral'}  CNN  Company  \n",
       "1  {'score': 1.0, 'label': 'positive'}    s      DFG  "
      ]
     },
     "execution_count": 45,
     "metadata": {},
     "output_type": "execute_result"
    }
   ],
   "source": [
    "pd.read_json(jsonarray)"
   ]
  },
  {
   "cell_type": "code",
   "execution_count": 46,
   "metadata": {},
   "outputs": [
    {
     "data": {
      "text/plain": [
       "[{'type': 'Company',\n",
       "  'text': 'CNN',\n",
       "  'sentiment': {'score': 0.0, 'label': 'neutral'},\n",
       "  'relevance': 0.784947,\n",
       "  'disambiguation': {'subtype': ['Broadcast',\n",
       "    'AwardWinner',\n",
       "    'RadioNetwork',\n",
       "    'TVNetwork'],\n",
       "   'name': 'CNN',\n",
       "   'dbpedia_resource': 'http://dbpedia.org/resource/CNN'},\n",
       "  'count': 9},\n",
       " {'type': 'DFG',\n",
       "  'text': 's',\n",
       "  'sentiment': {'score': 1.0, 'label': 'positive'},\n",
       "  'relevance': 0.784947,\n",
       "  'disambiguation': {'subtype': ['Broadcast',\n",
       "    'AwardWinner',\n",
       "    'RadioNetwork',\n",
       "    'TVNetwork'],\n",
       "   'name': 'CNN',\n",
       "   'dbpedia_resource': 'http://dbpedia.org/resource/CNN'},\n",
       "  'count': 9}]"
      ]
     },
     "execution_count": 46,
     "metadata": {},
     "output_type": "execute_result"
    }
   ],
   "source": [
    "Response['entities']"
   ]
  },
  {
   "cell_type": "code",
   "execution_count": null,
   "metadata": {},
   "outputs": [],
   "source": []
  }
 ],
 "metadata": {
  "kernelspec": {
   "display_name": "Python 3",
   "language": "python",
   "name": "python3"
  },
  "language_info": {
   "codemirror_mode": {
    "name": "ipython",
    "version": 3
   },
   "file_extension": ".py",
   "mimetype": "text/x-python",
   "name": "python",
   "nbconvert_exporter": "python",
   "pygments_lexer": "ipython3",
   "version": "3.6.5"
  }
 },
 "nbformat": 4,
 "nbformat_minor": 2
}
