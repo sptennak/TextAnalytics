{
 "cells": [
  {
   "cell_type": "code",
   "execution_count": 52,
   "metadata": {},
   "outputs": [],
   "source": [
    "Response = {\n",
    "  \"usage\": {\n",
    "    \"text_units\": 1,\n",
    "    \"text_characters\": 2708,\n",
    "    \"features\": 1\n",
    "  },\n",
    "  \"retrieved_url\": \"http://www.cnn.com/\",\n",
    "  \"language\": \"en\",\n",
    "  \"entities\": [\n",
    "    {\n",
    "      \"type\": \"Company\",\n",
    "      \"text\": \"CNN\",\n",
    "      \"sentiment\": {\n",
    "        \"score\": 0.0,\n",
    "        \"label\": \"neutral\"\n",
    "      },\n",
    "      \"relevance\": 0.784947,\n",
    "      \"disambiguation\": {\n",
    "        \"subtype\": [\n",
    "          \"Broadcast\",\n",
    "          \"AwardWinner\",\n",
    "          \"RadioNetwork\",\n",
    "          \"TVNetwork\"\n",
    "        ],\n",
    "        \"name\": \"CNN\",\n",
    "        \"dbpedia_resource\": \"http://dbpedia.org/resource/CNN\"\n",
    "      },\n",
    "      \"count\": 9\n",
    "    },\n",
    "      {\n",
    "      \"type\": \"DFG\",\n",
    "      \"text\": \"s\",\n",
    "      \"sentiment\": {\n",
    "        \"score\": 1.0,\n",
    "        \"label\": \"positive\"\n",
    "      },\n",
    "      \"relevance\": 0.784947,\n",
    "      \"disambiguation\": {\n",
    "        \"subtype\": [\n",
    "          \"Broadcast\",\n",
    "          \"AwardWinner\",\n",
    "          \"RadioNetwork\",\n",
    "          \"TVNetwork\"\n",
    "        ],\n",
    "        \"name\": \"CNN\",\n",
    "        \"dbpedia_resource\": \"http://dbpedia.org/resource/CNN\"\n",
    "      },\n",
    "      \"count\": 9\n",
    "    }\n",
    "  ]\n",
    "}"
   ]
  },
  {
   "cell_type": "code",
   "execution_count": 59,
   "metadata": {},
   "outputs": [],
   "source": [
    "import pandas as pd\n",
    "TextID = '101'\n",
    "import sys"
   ]
  },
  {
   "cell_type": "code",
   "execution_count": 60,
   "metadata": {},
   "outputs": [],
   "source": [
    "if len(Response['entities']) != 0:\n",
    "    WatsonResponseDetail = pd.DataFrame(Response['entities'])\n",
    "    WatsonResponseDetail.insert(0, 'TextID', TextID)\n",
    "    if 'sentiment' in WatsonResponseDetail.columns:\n",
    "        Split= WatsonResponseDetail.sentiment.apply(pd.Series)\n",
    "        WatsonResponseDetail['sentiment_'+Split.columns]= Split\n",
    "        WatsonResponseDetail.drop('sentiment', axis=1, inplace=True)\n",
    "else:\n",
    "    raise Exception('NO ENTITIES FOUND')"
   ]
  },
  {
   "cell_type": "code",
   "execution_count": 82,
   "metadata": {},
   "outputs": [
    {
     "name": "stdout",
     "output_type": "stream",
     "text": [
      "(<class 'ZeroDivisionError'>, ZeroDivisionError('division by zero',), <traceback object at 0x000001C040FB46C8>)\n"
     ]
    }
   ],
   "source": [
    "try:\n",
    "    print(2/0)\n",
    "except ZeroDivisionError:\n",
    "    print(sys.exc_info())\n"
   ]
  },
  {
   "cell_type": "code",
   "execution_count": 41,
   "metadata": {},
   "outputs": [],
   "source": [
    "WatsonResponseDetail['sentiment_'+Split.columns]= WatsonResponseDetail.sentiment.apply(pd.Series)"
   ]
  },
  {
   "cell_type": "code",
   "execution_count": 42,
   "metadata": {},
   "outputs": [
    {
     "data": {
      "text/html": [
       "<div>\n",
       "<style scoped>\n",
       "    .dataframe tbody tr th:only-of-type {\n",
       "        vertical-align: middle;\n",
       "    }\n",
       "\n",
       "    .dataframe tbody tr th {\n",
       "        vertical-align: top;\n",
       "    }\n",
       "\n",
       "    .dataframe thead th {\n",
       "        text-align: right;\n",
       "    }\n",
       "</style>\n",
       "<table border=\"1\" class=\"dataframe\">\n",
       "  <thead>\n",
       "    <tr style=\"text-align: right;\">\n",
       "      <th></th>\n",
       "      <th>count</th>\n",
       "      <th>disambiguation</th>\n",
       "      <th>relevance</th>\n",
       "      <th>sentiment</th>\n",
       "      <th>text</th>\n",
       "      <th>type</th>\n",
       "      <th>sentiment_score</th>\n",
       "      <th>sentiment_label</th>\n",
       "    </tr>\n",
       "  </thead>\n",
       "  <tbody>\n",
       "    <tr>\n",
       "      <th>0</th>\n",
       "      <td>9</td>\n",
       "      <td>{'subtype': ['Broadcast', 'AwardWinner', 'Radi...</td>\n",
       "      <td>0.784947</td>\n",
       "      <td>{'score': 0.0, 'label': 'neutral'}</td>\n",
       "      <td>CNN</td>\n",
       "      <td>Company</td>\n",
       "      <td>0.0</td>\n",
       "      <td>neutral</td>\n",
       "    </tr>\n",
       "    <tr>\n",
       "      <th>1</th>\n",
       "      <td>9</td>\n",
       "      <td>{'subtype': ['Broadcast', 'AwardWinner', 'Radi...</td>\n",
       "      <td>0.784947</td>\n",
       "      <td>{'score': 1.0, 'label': 'positive'}</td>\n",
       "      <td>s</td>\n",
       "      <td>DFG</td>\n",
       "      <td>1.0</td>\n",
       "      <td>positive</td>\n",
       "    </tr>\n",
       "  </tbody>\n",
       "</table>\n",
       "</div>"
      ],
      "text/plain": [
       "   count                                     disambiguation  relevance  \\\n",
       "0      9  {'subtype': ['Broadcast', 'AwardWinner', 'Radi...   0.784947   \n",
       "1      9  {'subtype': ['Broadcast', 'AwardWinner', 'Radi...   0.784947   \n",
       "\n",
       "                             sentiment text     type  sentiment_score  \\\n",
       "0   {'score': 0.0, 'label': 'neutral'}  CNN  Company              0.0   \n",
       "1  {'score': 1.0, 'label': 'positive'}    s      DFG              1.0   \n",
       "\n",
       "  sentiment_label  \n",
       "0         neutral  \n",
       "1        positive  "
      ]
     },
     "execution_count": 42,
     "metadata": {},
     "output_type": "execute_result"
    }
   ],
   "source": [
    "WatsonResponseDetail"
   ]
  },
  {
   "cell_type": "code",
   "execution_count": 43,
   "metadata": {},
   "outputs": [],
   "source": [
    "jsonarray = json.dumps(Response[\"entities\"])"
   ]
  },
  {
   "cell_type": "code",
   "execution_count": 44,
   "metadata": {},
   "outputs": [
    {
     "data": {
      "text/plain": [
       "'[{\"type\": \"Company\", \"text\": \"CNN\", \"sentiment\": {\"score\": 0.0, \"label\": \"neutral\"}, \"relevance\": 0.784947, \"disambiguation\": {\"subtype\": [\"Broadcast\", \"AwardWinner\", \"RadioNetwork\", \"TVNetwork\"], \"name\": \"CNN\", \"dbpedia_resource\": \"http://dbpedia.org/resource/CNN\"}, \"count\": 9}, {\"type\": \"DFG\", \"text\": \"s\", \"sentiment\": {\"score\": 1.0, \"label\": \"positive\"}, \"relevance\": 0.784947, \"disambiguation\": {\"subtype\": [\"Broadcast\", \"AwardWinner\", \"RadioNetwork\", \"TVNetwork\"], \"name\": \"CNN\", \"dbpedia_resource\": \"http://dbpedia.org/resource/CNN\"}, \"count\": 9}]'"
      ]
     },
     "execution_count": 44,
     "metadata": {},
     "output_type": "execute_result"
    }
   ],
   "source": [
    "jsonarray\n"
   ]
  },
  {
   "cell_type": "code",
   "execution_count": 45,
   "metadata": {},
   "outputs": [
    {
     "data": {
      "text/html": [
       "<div>\n",
       "<style scoped>\n",
       "    .dataframe tbody tr th:only-of-type {\n",
       "        vertical-align: middle;\n",
       "    }\n",
       "\n",
       "    .dataframe tbody tr th {\n",
       "        vertical-align: top;\n",
       "    }\n",
       "\n",
       "    .dataframe thead th {\n",
       "        text-align: right;\n",
       "    }\n",
       "</style>\n",
       "<table border=\"1\" class=\"dataframe\">\n",
       "  <thead>\n",
       "    <tr style=\"text-align: right;\">\n",
       "      <th></th>\n",
       "      <th>count</th>\n",
       "      <th>disambiguation</th>\n",
       "      <th>relevance</th>\n",
       "      <th>sentiment</th>\n",
       "      <th>text</th>\n",
       "      <th>type</th>\n",
       "    </tr>\n",
       "  </thead>\n",
       "  <tbody>\n",
       "    <tr>\n",
       "      <th>0</th>\n",
       "      <td>9</td>\n",
       "      <td>{'subtype': ['Broadcast', 'AwardWinner', 'Radi...</td>\n",
       "      <td>0.784947</td>\n",
       "      <td>{'score': 0.0, 'label': 'neutral'}</td>\n",
       "      <td>CNN</td>\n",
       "      <td>Company</td>\n",
       "    </tr>\n",
       "    <tr>\n",
       "      <th>1</th>\n",
       "      <td>9</td>\n",
       "      <td>{'subtype': ['Broadcast', 'AwardWinner', 'Radi...</td>\n",
       "      <td>0.784947</td>\n",
       "      <td>{'score': 1.0, 'label': 'positive'}</td>\n",
       "      <td>s</td>\n",
       "      <td>DFG</td>\n",
       "    </tr>\n",
       "  </tbody>\n",
       "</table>\n",
       "</div>"
      ],
      "text/plain": [
       "   count                                     disambiguation  relevance  \\\n",
       "0      9  {'subtype': ['Broadcast', 'AwardWinner', 'Radi...   0.784947   \n",
       "1      9  {'subtype': ['Broadcast', 'AwardWinner', 'Radi...   0.784947   \n",
       "\n",
       "                             sentiment text     type  \n",
       "0   {'score': 0.0, 'label': 'neutral'}  CNN  Company  \n",
       "1  {'score': 1.0, 'label': 'positive'}    s      DFG  "
      ]
     },
     "execution_count": 45,
     "metadata": {},
     "output_type": "execute_result"
    }
   ],
   "source": [
    "pd.read_json(jsonarray)"
   ]
  },
  {
   "cell_type": "code",
   "execution_count": 46,
   "metadata": {},
   "outputs": [
    {
     "data": {
      "text/plain": [
       "[{'type': 'Company',\n",
       "  'text': 'CNN',\n",
       "  'sentiment': {'score': 0.0, 'label': 'neutral'},\n",
       "  'relevance': 0.784947,\n",
       "  'disambiguation': {'subtype': ['Broadcast',\n",
       "    'AwardWinner',\n",
       "    'RadioNetwork',\n",
       "    'TVNetwork'],\n",
       "   'name': 'CNN',\n",
       "   'dbpedia_resource': 'http://dbpedia.org/resource/CNN'},\n",
       "  'count': 9},\n",
       " {'type': 'DFG',\n",
       "  'text': 's',\n",
       "  'sentiment': {'score': 1.0, 'label': 'positive'},\n",
       "  'relevance': 0.784947,\n",
       "  'disambiguation': {'subtype': ['Broadcast',\n",
       "    'AwardWinner',\n",
       "    'RadioNetwork',\n",
       "    'TVNetwork'],\n",
       "   'name': 'CNN',\n",
       "   'dbpedia_resource': 'http://dbpedia.org/resource/CNN'},\n",
       "  'count': 9}]"
      ]
     },
     "execution_count": 46,
     "metadata": {},
     "output_type": "execute_result"
    }
   ],
   "source": [
    "Response['entities']"
   ]
  },
  {
   "cell_type": "code",
   "execution_count": 99,
   "metadata": {},
   "outputs": [],
   "source": [
    "from watson_developer_cloud import NaturalLanguageUnderstandingV1, WatsonException, WatsonApiException, WatsonInvalidArgument\n",
    "from watson_developer_cloud.natural_language_understanding_v1 import Features, EntitiesOptions, KeywordsOptions, RelationsOptions\n",
    "import pandas as pd\n",
    "import numpy as np\n",
    "from timeit import default_timer as timer\n",
    "import multiprocessing\n",
    "import sys\n",
    "import traceback"
   ]
  },
  {
   "cell_type": "code",
   "execution_count": 91,
   "metadata": {},
   "outputs": [],
   "source": [
    "def Basic_Auth(UserName, Password, Version, url='https://gateway-fra.watsonplatform.net/natural-language-understanding/api'):\n",
    "    try:\n",
    "        ServiceAuthentication = NaturalLanguageUnderstandingV1(\n",
    "            version= Version,\n",
    "            username= UserName,\n",
    "            password= Password\n",
    "        )\n",
    "        ServiceAuthentication.set_url(url)\n",
    "        #To prevent IBM from accessing user input and Watson responses... https://www.ibm.com/watson/developercloud/conversation/api/v1/python.html?python#data-collection\n",
    "        ServiceAuthentication.set_default_headers({'x-watson-learning-opt-out': \"true\"}) \n",
    "        return ServiceAuthentication\n",
    "    except WatsonException:  \n",
    "        Notes = str(WatsonException)\n",
    "        print('Watson NLU: WatsonException [{}]'.format(Notes))\n",
    "    except WatsonApiException:\n",
    "        Notes = str(WatsonApiException)\n",
    "        print('Watson NLU: WatsonApiException [{}]'.format(Notes))\n",
    "    except WatsonInvalidArgument:\n",
    "        Notes = str(WatsonInvalidArgument)\n",
    "        print('Watson NLU: WatsonInvalidArgument [{}]'.format(Notes))\t\n",
    "    except:\n",
    "        Notes = sys.exc_info()[0]\n",
    "        print('Watson NLU: Unexpected error [{}]'.format(Notes))\n",
    "        return None"
   ]
  },
  {
   "cell_type": "code",
   "execution_count": 95,
   "metadata": {},
   "outputs": [
    {
     "data": {
      "text/plain": [
       "<watson_developer_cloud.natural_language_understanding_v1.NaturalLanguageUnderstandingV1 at 0x1c040fc4390>"
      ]
     },
     "execution_count": 95,
     "metadata": {},
     "output_type": "execute_result"
    }
   ],
   "source": [
    "ServiceAuthentication = Basic_Auth('ASED', 'WERTY', '2017-02-26')\n",
    "ServiceAuthentication"
   ]
  },
  {
   "cell_type": "code",
   "execution_count": 112,
   "metadata": {},
   "outputs": [
    {
     "name": "stdout",
     "output_type": "stream",
     "text": [
      "Watson NLU: Unexpected error [(<class 'NameError'>, NameError(\"name 'Text' is not defined\",), <traceback object at 0x000001C04237E688>)]\n",
      "Traceback (most recent call last):\n",
      "  File \"<ipython-input-112-1b712f860fab>\", line 3, in <module>\n",
      "    text=Text,\n",
      "NameError: name 'Text' is not defined\n",
      "\n"
     ]
    }
   ],
   "source": [
    "try:\n",
    "    Response = ServiceAuthentication.analyze(\n",
    "        text=Text,\n",
    "        features=Features(\n",
    "            relations=RelationsOptions(\n",
    "              model = ModelID,\n",
    "            ),\n",
    "            entities=EntitiesOptions(\n",
    "              emotion=Emotion,\n",
    "              sentiment=Sentiment,\n",
    "              mentions=Mentions,\n",
    "              model = ModelID,  \n",
    "              limit=EntityLimit\t\t\t\t  \n",
    "            ),     \n",
    "        ),\n",
    "        limit_text_characters = TextLimit, #https://console.bluemix.net/docs/services/natural-language-understanding/usage-limits.html#usage-limits\n",
    "        return_analyzed_text=ReturnText    \n",
    "    )\n",
    "    Notes='RECIEVED'\n",
    "except WatsonException:  \n",
    "    Notes = str(WatsonException)\n",
    "    print('Watson NLU: WatsonException [{}]'.format(Notes))\n",
    "except WatsonApiException:\n",
    "    Notes = str(WatsonApiException)\n",
    "    print('Watson NLU: WatsonApiException [{}]'.format(Notes))\n",
    "except WatsonInvalidArgument:\n",
    "    Notes = str(WatsonInvalidArgument)\n",
    "    print('Watson NLU: WatsonInvalidArgument [{}]'.format(Notes))\t\n",
    "except:\n",
    "    Notes = sys.exc_info()\n",
    "    print('Watson NLU: Unexpected error [{}]'.format(Notes))\n",
    "    print(traceback.format_exc())\n"
   ]
  },
  {
   "cell_type": "code",
   "execution_count": 123,
   "metadata": {},
   "outputs": [
    {
     "ename": "AttributeError",
     "evalue": "'tuple' object has no attribute 'args'",
     "output_type": "error",
     "traceback": [
      "\u001b[1;31m---------------------------------------------------------------------------\u001b[0m",
      "\u001b[1;31mAttributeError\u001b[0m                            Traceback (most recent call last)",
      "\u001b[1;32m<ipython-input-123-581d7996b232>\u001b[0m in \u001b[0;36m<module>\u001b[1;34m()\u001b[0m\n\u001b[1;32m----> 1\u001b[1;33m \u001b[0mprint\u001b[0m\u001b[1;33m(\u001b[0m\u001b[0mNotes\u001b[0m\u001b[1;33m+\u001b[0m\u001b[0mNotes\u001b[0m\u001b[1;33m.\u001b[0m\u001b[0margs\u001b[0m\u001b[1;33m[\u001b[0m\u001b[1;36m1\u001b[0m\u001b[1;33m]\u001b[0m\u001b[1;33m)\u001b[0m\u001b[1;33m\u001b[0m\u001b[0m\n\u001b[0m",
      "\u001b[1;31mAttributeError\u001b[0m: 'tuple' object has no attribute 'args'"
     ]
    }
   ],
   "source": [
    "print(Notes+Notes.args[1])\n"
   ]
  },
  {
   "cell_type": "code",
   "execution_count": 132,
   "metadata": {},
   "outputs": [
    {
     "name": "stdout",
     "output_type": "stream",
     "text": [
      "(\"name 'Text' is not defined\",)\n"
     ]
    }
   ],
   "source": [
    "print(str(Notes[1].args))"
   ]
  },
  {
   "cell_type": "code",
   "execution_count": 145,
   "metadata": {},
   "outputs": [
    {
     "data": {
      "text/plain": [
       "(\"name 'Text' is not defined\",)"
      ]
     },
     "execution_count": 145,
     "metadata": {},
     "output_type": "execute_result"
    }
   ],
   "source": [
    "Notes[1].args"
   ]
  },
  {
   "cell_type": "code",
   "execution_count": 146,
   "metadata": {},
   "outputs": [
    {
     "data": {
      "text/plain": [
       "\"name 'Text' is not defined\""
      ]
     },
     "execution_count": 146,
     "metadata": {},
     "output_type": "execute_result"
    }
   ],
   "source": [
    "'-'.join([1].args)"
   ]
  },
  {
   "cell_type": "code",
   "execution_count": 139,
   "metadata": {},
   "outputs": [],
   "source": [
    "import sys\n",
    "try:\n",
    "    try:\n",
    "        print(x)\n",
    "    except:\n",
    "        raise NameError\n",
    "except:\n",
    "    EX = sys.exc_info()"
   ]
  },
  {
   "cell_type": "code",
   "execution_count": 162,
   "metadata": {},
   "outputs": [
    {
     "data": {
      "text/plain": [
       "\"<class 'NameError'>name 'Text' is not defined\""
      ]
     },
     "execution_count": 162,
     "metadata": {},
     "output_type": "execute_result"
    }
   ],
   "source": [
    "str(Notes[0])+':'+''.join(Notes[1].args)\n"
   ]
  },
  {
   "cell_type": "code",
   "execution_count": 152,
   "metadata": {},
   "outputs": [],
   "source": [
    "X = Notes[0]\n"
   ]
  },
  {
   "cell_type": "code",
   "execution_count": 153,
   "metadata": {},
   "outputs": [
    {
     "data": {
      "text/plain": [
       "<attribute 'args' of 'BaseException' objects>"
      ]
     },
     "execution_count": 153,
     "metadata": {},
     "output_type": "execute_result"
    }
   ],
   "source": [
    "X.args"
   ]
  },
  {
   "cell_type": "code",
   "execution_count": 160,
   "metadata": {},
   "outputs": [
    {
     "ename": "AttributeError",
     "evalue": "type object 'NameError' has no attribute 'NameError'",
     "output_type": "error",
     "traceback": [
      "\u001b[1;31m---------------------------------------------------------------------------\u001b[0m",
      "\u001b[1;31mAttributeError\u001b[0m                            Traceback (most recent call last)",
      "\u001b[1;32m<ipython-input-160-6d0725def00c>\u001b[0m in \u001b[0;36m<module>\u001b[1;34m()\u001b[0m\n\u001b[1;32m----> 1\u001b[1;33m \u001b[0mX\u001b[0m\u001b[1;33m.\u001b[0m\u001b[0mNameError\u001b[0m\u001b[1;33m\u001b[0m\u001b[0m\n\u001b[0m",
      "\u001b[1;31mAttributeError\u001b[0m: type object 'NameError' has no attribute 'NameError'"
     ]
    }
   ],
   "source": [
    "X."
   ]
  },
  {
   "cell_type": "code",
   "execution_count": 158,
   "metadata": {},
   "outputs": [
    {
     "ename": "TypeError",
     "evalue": "descriptor 'with_traceback' requires a 'BaseException' object but received a 'NoneType'",
     "output_type": "error",
     "traceback": [
      "\u001b[1;31m---------------------------------------------------------------------------\u001b[0m",
      "\u001b[1;31mTypeError\u001b[0m                                 Traceback (most recent call last)",
      "\u001b[1;32m<ipython-input-158-e24872ad34ab>\u001b[0m in \u001b[0;36m<module>\u001b[1;34m()\u001b[0m\n\u001b[1;32m----> 1\u001b[1;33m \u001b[0mX\u001b[0m\u001b[1;33m.\u001b[0m\u001b[0mwith_traceback\u001b[0m\u001b[1;33m(\u001b[0m\u001b[1;32mNone\u001b[0m\u001b[1;33m)\u001b[0m\u001b[1;33m\u001b[0m\u001b[0m\n\u001b[0m",
      "\u001b[1;31mTypeError\u001b[0m: descriptor 'with_traceback' requires a 'BaseException' object but received a 'NoneType'"
     ]
    }
   ],
   "source": [
    "X.with_traceback(None)"
   ]
  },
  {
   "cell_type": "code",
   "execution_count": 164,
   "metadata": {},
   "outputs": [
    {
     "ename": "TypeError",
     "evalue": "'getset_descriptor' object is not subscriptable",
     "output_type": "error",
     "traceback": [
      "\u001b[1;31m---------------------------------------------------------------------------\u001b[0m",
      "\u001b[1;31mTypeError\u001b[0m                                 Traceback (most recent call last)",
      "\u001b[1;32m<ipython-input-164-295f2dc2a349>\u001b[0m in \u001b[0;36m<module>\u001b[1;34m()\u001b[0m\n\u001b[1;32m----> 1\u001b[1;33m \u001b[0mX\u001b[0m\u001b[1;33m.\u001b[0m\u001b[0margs\u001b[0m\u001b[1;33m[\u001b[0m\u001b[1;36m0\u001b[0m\u001b[1;33m]\u001b[0m\u001b[1;33m\u001b[0m\u001b[0m\n\u001b[0m",
      "\u001b[1;31mTypeError\u001b[0m: 'getset_descriptor' object is not subscriptable"
     ]
    }
   ],
   "source": [
    "X.args"
   ]
  },
  {
   "cell_type": "code",
   "execution_count": null,
   "metadata": {},
   "outputs": [],
   "source": []
  },
  {
   "cell_type": "code",
   "execution_count": 165,
   "metadata": {},
   "outputs": [
    {
     "data": {
      "text/plain": [
       "(NameError, NameError(), <traceback at 0x1c0423b17c8>)"
      ]
     },
     "execution_count": 165,
     "metadata": {},
     "output_type": "execute_result"
    }
   ],
   "source": [
    "EX"
   ]
  },
  {
   "cell_type": "code",
   "execution_count": 166,
   "metadata": {},
   "outputs": [
    {
     "data": {
      "text/plain": [
       "NameError"
      ]
     },
     "execution_count": 166,
     "metadata": {},
     "output_type": "execute_result"
    }
   ],
   "source": [
    "EX[0]"
   ]
  },
  {
   "cell_type": "code",
   "execution_count": 186,
   "metadata": {},
   "outputs": [],
   "source": [
    "try:\n",
    "    print(2/0)\n",
    "except:\n",
    "    EXP2 = sys.exc_info()"
   ]
  },
  {
   "cell_type": "code",
   "execution_count": 188,
   "metadata": {},
   "outputs": [
    {
     "data": {
      "text/plain": [
       "(ZeroDivisionError,\n",
       " ZeroDivisionError('division by zero'),\n",
       " <traceback at 0x1c0423d2948>)"
      ]
     },
     "execution_count": 188,
     "metadata": {},
     "output_type": "execute_result"
    }
   ],
   "source": [
    "EXP2"
   ]
  },
  {
   "cell_type": "code",
   "execution_count": 173,
   "metadata": {},
   "outputs": [],
   "source": [
    "Text='Hellow World. How Are y0u.'\n",
    "\n",
    "ModelID = '1234'"
   ]
  },
  {
   "cell_type": "code",
   "execution_count": 176,
   "metadata": {},
   "outputs": [],
   "source": [
    "try:\n",
    "    Response = ServiceAuthentication.analyze(\n",
    "        text=Text,\n",
    "        features=Features(\n",
    "            relations=RelationsOptions(\n",
    "              model = ModelID,\n",
    "            ),\n",
    "            entities=EntitiesOptions(\n",
    "              emotion=True,\n",
    "              sentiment=True,\n",
    "              mentions=True,\n",
    "              model = ModelID,  \n",
    "              limit=1000\t\t\t\t  \n",
    "            ),     \n",
    "        ),\n",
    "        limit_text_characters = TextLimit, #https://console.bluemix.net/docs/services/natural-language-understanding/usage-limits.html#usage-limits\n",
    "        return_analyzed_text=ReturnText    \n",
    "    )\n",
    "    Notes='RECIEVED'\n",
    "except:\n",
    "    EXP = sys.exc_info()\n"
   ]
  },
  {
   "cell_type": "code",
   "execution_count": 177,
   "metadata": {},
   "outputs": [
    {
     "data": {
      "text/plain": [
       "(NameError,\n",
       " NameError(\"name 'TextLimit' is not defined\"),\n",
       " <traceback at 0x1c0423c58c8>)"
      ]
     },
     "execution_count": 177,
     "metadata": {},
     "output_type": "execute_result"
    }
   ],
   "source": [
    "EXP"
   ]
  },
  {
   "cell_type": "code",
   "execution_count": 183,
   "metadata": {},
   "outputs": [],
   "source": [
    "X=EXP[0]"
   ]
  },
  {
   "cell_type": "code",
   "execution_count": 185,
   "metadata": {},
   "outputs": [
    {
     "data": {
      "text/plain": [
       "[NameError, Exception, BaseException, object]"
      ]
     },
     "execution_count": 185,
     "metadata": {},
     "output_type": "execute_result"
    }
   ],
   "source": [
    "X.mro()"
   ]
  },
  {
   "cell_type": "code",
   "execution_count": 197,
   "metadata": {},
   "outputs": [
    {
     "data": {
      "text/plain": [
       "'<traceback object at 0x000001C0423D2948>'"
      ]
     },
     "execution_count": 197,
     "metadata": {},
     "output_type": "execute_result"
    }
   ],
   "source": [
    "str(EXP2[2])"
   ]
  },
  {
   "cell_type": "code",
   "execution_count": 196,
   "metadata": {},
   "outputs": [
    {
     "data": {
      "text/plain": [
       "(ZeroDivisionError,\n",
       " ZeroDivisionError('division by zero'),\n",
       " <traceback at 0x1c0423d2948>)"
      ]
     },
     "execution_count": 196,
     "metadata": {},
     "output_type": "execute_result"
    }
   ],
   "source": [
    "Y"
   ]
  },
  {
   "cell_type": "code",
   "execution_count": 193,
   "metadata": {},
   "outputs": [
    {
     "ename": "TypeError",
     "evalue": "index() takes at least 1 argument (0 given)",
     "output_type": "error",
     "traceback": [
      "\u001b[1;31m---------------------------------------------------------------------------\u001b[0m",
      "\u001b[1;31mTypeError\u001b[0m                                 Traceback (most recent call last)",
      "\u001b[1;32m<ipython-input-193-a95656e4da23>\u001b[0m in \u001b[0;36m<module>\u001b[1;34m()\u001b[0m\n\u001b[1;32m----> 1\u001b[1;33m \u001b[0mY\u001b[0m\u001b[1;33m.\u001b[0m\u001b[0mindex\u001b[0m\u001b[1;33m(\u001b[0m\u001b[1;33m)\u001b[0m\u001b[1;33m\u001b[0m\u001b[0m\n\u001b[0m",
      "\u001b[1;31mTypeError\u001b[0m: index() takes at least 1 argument (0 given)"
     ]
    }
   ],
   "source": [
    "Y.index()"
   ]
  },
  {
   "cell_type": "code",
   "execution_count": null,
   "metadata": {},
   "outputs": [],
   "source": []
  }
 ],
 "metadata": {
  "kernelspec": {
   "display_name": "Python 3",
   "language": "python",
   "name": "python3"
  },
  "language_info": {
   "codemirror_mode": {
    "name": "ipython",
    "version": 3
   },
   "file_extension": ".py",
   "mimetype": "text/x-python",
   "name": "python",
   "nbconvert_exporter": "python",
   "pygments_lexer": "ipython3",
   "version": "3.6.5"
  }
 },
 "nbformat": 4,
 "nbformat_minor": 2
}
