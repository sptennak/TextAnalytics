{
 "cells": [
  {
   "cell_type": "code",
   "execution_count": 5,
   "metadata": {},
   "outputs": [],
   "source": [
    "from TextProcessing import *"
   ]
  },
  {
   "cell_type": "code",
   "execution_count": 12,
   "metadata": {},
   "outputs": [],
   "source": [
    "Text = \"\"\"\n",
    "<!DOCTYPE html>\n",
    "<html>\n",
    "<body>\n",
    "\n",
    "<p id=\"demo\">Click the button to change the layout of this paragraph &lt; 2</p>\n",
    "\n",
    "<script>\n",
    "function myFunction() {\n",
    "    var x = document.getElementById(\"demo\");\n",
    "    x.style.fontSize = \"25px\"; \n",
    "    x.style.color = \"red\"; \n",
    "}\n",
    "</script>\n",
    "\n",
    "<button onclick=\"myFunction()\">Click Me!</button>\n",
    "\n",
    "</body>\n",
    "</html>\n",
    "\"\"\""
   ]
  },
  {
   "cell_type": "code",
   "execution_count": 13,
   "metadata": {},
   "outputs": [
    {
     "name": "stdout",
     "output_type": "stream",
     "text": [
      "\n",
      "<!DOCTYPE html>\n",
      "<html>\n",
      "<body>\n",
      "\n",
      "<p id=\"demo\">Click the button to change the layout of this paragraph &lt; 2</p>\n",
      "\n",
      "<script>\n",
      "function myFunction() {\n",
      "    var x = document.getElementById(\"demo\");\n",
      "    x.style.fontSize = \"25px\"; \n",
      "    x.style.color = \"red\"; \n",
      "}\n",
      "</script>\n",
      "\n",
      "<button onclick=\"myFunction()\">Click Me!</button>\n",
      "\n",
      "</body>\n",
      "</html>\n",
      "\n"
     ]
    }
   ],
   "source": [
    "print(Text)"
   ]
  },
  {
   "cell_type": "code",
   "execution_count": 14,
   "metadata": {},
   "outputs": [
    {
     "name": "stdout",
     "output_type": "stream",
     "text": [
      "    Click the button to change the layout of this paragraph < 2\n",
      "\n",
      " Click Me!   \n"
     ]
    }
   ],
   "source": [
    "print(RemoveHTMLTagsEntities(Text))"
   ]
  },
  {
   "cell_type": "code",
   "execution_count": 18,
   "metadata": {},
   "outputs": [],
   "source": [
    "QPText = \"\"\"Value=20of=20pi=20=3D=203.1415926535897932384626433.=20=0D=0APi=20Day=20is=20celebrated=20on=20March=2014th=20(3/14)=20around=20the=20world.=20\n",
    "\"\"\""
   ]
  },
  {
   "cell_type": "code",
   "execution_count": 19,
   "metadata": {},
   "outputs": [
    {
     "name": "stdout",
     "output_type": "stream",
     "text": [
      "Value=20of=20pi=20=3D=203.1415926535897932384626433.=20=0D=0APi=20Day=20is=20celebrated=20on=20March=2014th=20(3/14)=20around=20the=20world.=20\n",
      "\n"
     ]
    }
   ],
   "source": [
    "print(QPText)"
   ]
  },
  {
   "cell_type": "code",
   "execution_count": 20,
   "metadata": {},
   "outputs": [
    {
     "name": "stdout",
     "output_type": "stream",
     "text": [
      "Value of pi = 3.1415926535897932384626433. \r\n",
      "Pi Day is celebrated on March 14th (3/14) around the world. \n",
      "\n"
     ]
    }
   ],
   "source": [
    "print(RemoveQuotedPrintableEncoding(QPText))"
   ]
  },
  {
   "cell_type": "code",
   "execution_count": null,
   "metadata": {},
   "outputs": [],
   "source": []
  }
 ],
 "metadata": {
  "kernelspec": {
   "display_name": "Python 3",
   "language": "python",
   "name": "python3"
  },
  "language_info": {
   "codemirror_mode": {
    "name": "ipython",
    "version": 3
   },
   "file_extension": ".py",
   "mimetype": "text/x-python",
   "name": "python",
   "nbconvert_exporter": "python",
   "pygments_lexer": "ipython3",
   "version": "3.6.5"
  }
 },
 "nbformat": 4,
 "nbformat_minor": 2
}
